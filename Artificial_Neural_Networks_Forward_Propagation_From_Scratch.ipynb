{
  "nbformat": 4,
  "nbformat_minor": 0,
  "metadata": {
    "colab": {
      "provenance": [],
      "toc_visible": true,
      "authorship_tag": "ABX9TyOHBx4V8+b+PDHvoJsmASAW"
    },
    "kernelspec": {
      "name": "python3",
      "display_name": "Python 3"
    },
    "language_info": {
      "name": "python"
    }
  },
  "cells": [
    {
      "cell_type": "code",
      "execution_count": 14,
      "metadata": {
        "colab": {
          "base_uri": "https://localhost:8080/"
        },
        "id": "89ikWAue5pEy",
        "outputId": "6b9e2c3d-12d5-4ca5-ed5b-212b7befd729"
      },
      "outputs": [
        {
          "output_type": "stream",
          "name": "stdout",
          "text": [
            "Requirement already satisfied: numpy==1.26.4 in /usr/local/lib/python3.11/dist-packages (1.26.4)\n"
          ]
        }
      ],
      "source": [
        "!pip install numpy==1.26.4"
      ]
    },
    {
      "cell_type": "code",
      "source": [
        "import numpy as np"
      ],
      "metadata": {
        "id": "jgemnBPG50mY"
      },
      "execution_count": 15,
      "outputs": []
    },
    {
      "cell_type": "code",
      "source": [
        "weights = np.around(np.random.uniform(size=6), decimals=2)\n",
        "biases = np.around(np.random.uniform(size=3), decimals=2)"
      ],
      "metadata": {
        "id": "WL1WHdKx50qv"
      },
      "execution_count": 16,
      "outputs": []
    },
    {
      "cell_type": "code",
      "source": [
        "print(weights)\n",
        "print(biases)"
      ],
      "metadata": {
        "colab": {
          "base_uri": "https://localhost:8080/"
        },
        "id": "P6lAL2dE50vE",
        "outputId": "69f7d4b5-016a-404c-8ef4-5991e5a5080f"
      },
      "execution_count": 17,
      "outputs": [
        {
          "output_type": "stream",
          "name": "stdout",
          "text": [
            "[0.44 0.2  0.45 0.77 0.51 0.27]\n",
            "[0.04 0.7  0.33]\n"
          ]
        }
      ]
    },
    {
      "cell_type": "code",
      "source": [
        "x_1 = 0.5 # input 1\n",
        "x_2 = 0.85 # input 2\n",
        "\n",
        "print(f'x1 is {x_1} and x2 is {x_2}')"
      ],
      "metadata": {
        "colab": {
          "base_uri": "https://localhost:8080/"
        },
        "id": "02Il7snL50zY",
        "outputId": "10b3f396-36b7-403e-c82c-3b0e3821a67f"
      },
      "execution_count": 18,
      "outputs": [
        {
          "output_type": "stream",
          "name": "stdout",
          "text": [
            "x1 is 0.5 and x2 is 0.85\n"
          ]
        }
      ]
    },
    {
      "cell_type": "code",
      "source": [
        "z_11 = x_1 * weights[0] + x_2 * weights[1] + biases[0]\n",
        "\n",
        "print(f'The weighted sum of the inputs at the first node in the hidden layer is {z_11}')"
      ],
      "metadata": {
        "colab": {
          "base_uri": "https://localhost:8080/"
        },
        "id": "qqt3mvIQ503c",
        "outputId": "5b9bd070-030d-4ac0-e198-05b208aa7296"
      },
      "execution_count": 19,
      "outputs": [
        {
          "output_type": "stream",
          "name": "stdout",
          "text": [
            "The weighted sum of the inputs at the first node in the hidden layer is 0.43\n"
          ]
        }
      ]
    },
    {
      "cell_type": "code",
      "source": [
        "z_12 = x_1 * weights[2] + x_2 * weights[3] + biases[1]\n",
        "\n",
        "print(f'The weighted sum of the inputs at the second node in the hidden layer is {np.around(z_12, decimals=4)}')"
      ],
      "metadata": {
        "colab": {
          "base_uri": "https://localhost:8080/"
        },
        "id": "7eZrlDTjCERG",
        "outputId": "1ac8fadb-4e43-412d-a9dc-af6bd9f7b45f"
      },
      "execution_count": 20,
      "outputs": [
        {
          "output_type": "stream",
          "name": "stdout",
          "text": [
            "The weighted sum of the inputs at the second node in the hidden layer is 1.5795\n"
          ]
        }
      ]
    },
    {
      "cell_type": "code",
      "source": [
        "#sigmoid act.function / activation of the first node in the hidden layer\n",
        "\n",
        "a_11 = 1.0 / (1.0 + np.exp(-z_11))\n",
        "\n",
        "print(f'The activation of the first node in the hidden layer is {np.around(a_11, decimals=4)}')\n"
      ],
      "metadata": {
        "colab": {
          "base_uri": "https://localhost:8080/"
        },
        "id": "o6KudHdgCEXc",
        "outputId": "6b3d32aa-42d1-4096-8aca-8611447cffe3"
      },
      "execution_count": 21,
      "outputs": [
        {
          "output_type": "stream",
          "name": "stdout",
          "text": [
            "The activation of the first node in the hidden layer is 0.6059\n"
          ]
        }
      ]
    },
    {
      "cell_type": "code",
      "source": [
        "#sigmoid act.function / activation of the first node in the hidden layer\n",
        "\n",
        "a_12 = 1.0 / (1.0 + np.exp(-z_12))\n",
        "\n",
        "print(f'The activation of the second node in the hidden layer is {np.around(a_12, decimals=4)}')\n"
      ],
      "metadata": {
        "colab": {
          "base_uri": "https://localhost:8080/"
        },
        "id": "lp4UUH-vCEb2",
        "outputId": "83485618-e0d0-4b99-ae64-863e8a2c7623"
      },
      "execution_count": 22,
      "outputs": [
        {
          "output_type": "stream",
          "name": "stdout",
          "text": [
            "The activation of the second node in the hidden layer is 0.8291\n"
          ]
        }
      ]
    },
    {
      "cell_type": "code",
      "source": [
        "#the weighted sum of these inputs to the node in the output layer\n",
        "\n",
        "z_2 = a_11 * weights[4] + a_12 * weights[5] + biases[2]\n"
      ],
      "metadata": {
        "id": "KfA0MrleCEes"
      },
      "execution_count": 23,
      "outputs": []
    },
    {
      "cell_type": "code",
      "source": [
        "print(f'The weighted sum of the inputs at the node in the output layer is {np.around(z_2, decimals=4)}')"
      ],
      "metadata": {
        "colab": {
          "base_uri": "https://localhost:8080/"
        },
        "id": "MMa7G2p4508A",
        "outputId": "1e689af2-cf18-4ff7-ab79-0a6f42170f4a"
      },
      "execution_count": 24,
      "outputs": [
        {
          "output_type": "stream",
          "name": "stdout",
          "text": [
            "The weighted sum of the inputs at the node in the output layer is 0.8629\n"
          ]
        }
      ]
    },
    {
      "cell_type": "code",
      "source": [
        "#output of the network as the activation of the node in the output layer.\n",
        "\n",
        "a_2 = 1.0 / (1.0 + np.exp(-z_2))"
      ],
      "metadata": {
        "id": "NYbDe8uODbf9"
      },
      "execution_count": 25,
      "outputs": []
    },
    {
      "cell_type": "code",
      "source": [
        "print(f'The output of the network for x1 = 0.5 and x2 = 0.85 is {np.around(a_2, decimals=4)}')"
      ],
      "metadata": {
        "colab": {
          "base_uri": "https://localhost:8080/"
        },
        "id": "aua3Cir5Dbkd",
        "outputId": "f556a808-bcd3-41fe-a0fd-ae110b9f347e"
      },
      "execution_count": 26,
      "outputs": [
        {
          "output_type": "stream",
          "name": "stdout",
          "text": [
            "The output of the network for x1 = 0.5 and x2 = 0.85 is 0.7033\n"
          ]
        }
      ]
    }
  ]
}